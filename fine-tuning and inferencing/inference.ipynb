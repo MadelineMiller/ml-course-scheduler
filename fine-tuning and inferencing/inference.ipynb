{
 "cells": [
  {
   "cell_type": "code",
   "execution_count": 27,
   "metadata": {},
   "outputs": [
    {
     "name": "stdout",
     "output_type": "stream",
     "text": [
      "Generated Schedule: Quarter 1: ['MATH 19A', 'CSE 20']. Score: 2.5. Quarter 2: ['MATH 19B', 'CSE 12']. Score: 0.4000000000000003. Quarter 3: ['AM 30', 'CSE 107']. Score: -1.5. Quarter 4: ['CSE 12', 'CSE 16']. Score: 0.0. Quarter 5: ['CSE 13S', 'ECE 30']. Score: 0.0. Quarter 6: ['CSE 40', 'CSE 30']. Score: 0.0. Quarter 7: ['CSE 101', 'CSE 185S']. Score: 0.0. Quarter 9: ['CSE 112', 'CSE 130']. Score: 0.0. Quarter 9: ['CSE 101M', 'CSE 101M']. Score: 0.0. Quarter 10: ['ELECTIVE', 'CSE 130']. Score: 0.0. Quarter 11: ['ELECTIVE']. Score: 0.0. Quarter 12: ['ELECTIVE', 'CAPSTONE']. Score: 0.0.\n"
     ]
    }
   ],
   "source": [
    "from transformers import T5Tokenizer, T5ForConditionalGeneration\n",
    "from safetensors.torch import load_file\n",
    "import torch\n",
    "\n",
    "model_name = \"t5-small\"  \n",
    "tokenizer = T5Tokenizer.from_pretrained(model_name)\n",
    "model = T5ForConditionalGeneration.from_pretrained(model_name)\n",
    "\n",
    "adapter_weights = load_file(\"results/checkpoint-2250/model.safetensors\")\n",
    "\n",
    "model.load_state_dict(adapter_weights, strict=False)\n",
    "\n",
    "\n",
    "\n",
    "target_goodness_score = 20  \n",
    "prompt = f\"Generate one a new 12-quarter schedule maximizing goodness score. Target cumulative goodness score: {target_goodness_score}.\"\n",
    "\n",
    "\n",
    "inputs = tokenizer(prompt, return_tensors=\"pt\")\n",
    "\n",
    "# Make the output to be more funky\n",
    "torch.manual_seed(torch.randint(0, 10000, (1,)).item())\n",
    "\n",
    "output_sequences = model.generate(\n",
    "    input_ids=inputs[\"input_ids\"],\n",
    "    max_length=512,          \n",
    "    num_beams=1,              \n",
    "    temperature=0.8,          \n",
    "    do_sample=True,           \n",
    "    top_k=100,                \n",
    "    top_p=0.95                \n",
    ")\n",
    "\n",
    "\n",
    "generated_schedule = tokenizer.decode(output_sequences[0], skip_special_tokens=True)\n",
    "print(\"Generated Schedule:\", generated_schedule)\n",
    "\n"
   ]
  },
  {
   "cell_type": "markdown",
   "metadata": {},
   "source": [
    "Generated Schedule: Quarter 1: ['MATH 19A', 'CSE 20']. Score: 2.5. Quarter 2: ['MATH 19B', 'CSE 16']. Score: 0.7999999999999998. Quarter 3: ['AM 30', 'CSE 12']. Score: 0.7999999999999998. Quarter 4: ['CSE 30', 'CSE 30']. Score: 0.0. Quarter 5: ['CSE 13S', 'CSE 13S']. Score: 0.0. Quarter 6: ['CSE 101', 'CSE 120']. Score: 0.0. Quarter 7: ['CSE 130', 'CSE 101M']. Score: 0.0. Quarter 8: ['CSE 130', 'CSE 130']. Score: 0.0. Quarter 9: ['CSE 101M', 'CSE 130']. Score: 0.0. Quarter 10: ['ELECTIVE', 'CSE 130']. Score: 0.0. Quarter 11: ['ELECTIVE']. Score: 0.0. Quarter 12: ['ELECTIVE', 'CAPSTONE']. Score: 0.0.\n",
    "\n",
    "\n",
    "Generated Schedule: Quarter 1: ['MATH 20A', 'CSE 20']. Score: 2.5. Quarter 2: ['MATH 20B', 'CSE 16']. Score: 0.7999999999999998. Quarter 3: ['MATH 23A', 'CSE 16']. Score: 0.7999999999999998. Quarter 4: ['CSE 16', 'CSE 13S']. Score: 0.0. Quarter 5: ['CSE 12', 'CSE 12']. Score: 0.0. Quarter 6: ['CSE 13S']. Score: 0.0. Quarter 8: ['CSE 101', 'CSE 130']. Score: 0.0. Quarter 8: ['CSE 130', 'CSE 103']. Score: 0.0. Quarter 9: ['CSE 112', 'CSE 101M']. Score: 0.0. Quarter 10: ['ELECTIVE', 'CSE 185S']. Score: 0.0. Quarter 11: ['ELECTIVE']. Score: 0.0. Quarter 12: ['ELECTIVE', 'CAPSTONE']. Score: 0.0.\n",
    "\n",
    "\n",
    "Generated Schedule: Quarter 1: ['MATH 19A', 'CSE 20']. Score: 2.5. Quarter 2: ['MATH 19B', 'CSE 12']. Score: 0.4000000000000003. Quarter 3: ['AM 30', 'CSE 107']. Score: -1.5. Quarter 4: ['CSE 12', 'CSE 16']. Score: 0.0. Quarter 5: ['CSE 13S', 'ECE 30']. Score: 0.0. Quarter 6: ['CSE 40', 'CSE 30']. Score: 0.0. Quarter 7: ['CSE 101', 'CSE 185S']. Score: 0.0. Quarter 9: ['CSE 112', 'CSE 130']. Score: 0.0. Quarter 9: ['CSE 101M', 'CSE 101M']. Score: 0.0. Quarter 10: ['ELECTIVE', 'CSE 130']. Score: 0.0. Quarter 11: ['ELECTIVE']. Score: 0.0. Quarter 12: ['ELECTIVE', 'CAPSTONE']. Score: 0.0.\n"
   ]
  }
 ],
 "metadata": {
  "kernelspec": {
   "display_name": "ml",
   "language": "python",
   "name": "python3"
  },
  "language_info": {
   "codemirror_mode": {
    "name": "ipython",
    "version": 3
   },
   "file_extension": ".py",
   "mimetype": "text/x-python",
   "name": "python",
   "nbconvert_exporter": "python",
   "pygments_lexer": "ipython3",
   "version": "3.10.14"
  }
 },
 "nbformat": 4,
 "nbformat_minor": 2
}
